{
 "cells": [
  {
   "cell_type": "code",
   "execution_count": 2,
   "id": "d01bd6b4-97d9-49cb-9267-2fc4393054fc",
   "metadata": {},
   "outputs": [],
   "source": [
    "import pandas as pd"
   ]
  },
  {
   "cell_type": "code",
   "execution_count": 3,
   "id": "86be4296-7930-43fc-b2a4-11a6f608c345",
   "metadata": {},
   "outputs": [],
   "source": [
    "df = pd.DataFrame([{'data':'hola'}])"
   ]
  },
  {
   "cell_type": "code",
   "execution_count": 13,
   "id": "f00da726-299c-4cf6-a0b4-8ea90748014e",
   "metadata": {},
   "outputs": [
    {
     "data": {
      "text/plain": [
       "0    4\n",
       "Name: data, dtype: int64"
      ]
     },
     "execution_count": 13,
     "metadata": {},
     "output_type": "execute_result"
    }
   ],
   "source": [
    "df['data'].str.len()"
   ]
  },
  {
   "cell_type": "code",
   "execution_count": 16,
   "id": "86a09e20-2f08-45a8-9345-b84f8fb6907e",
   "metadata": {},
   "outputs": [
    {
     "data": {
      "text/plain": [
       "False"
      ]
     },
     "execution_count": 16,
     "metadata": {},
     "output_type": "execute_result"
    }
   ],
   "source": [
    "\"M\".lower()!='m'"
   ]
  },
  {
   "cell_type": "code",
   "execution_count": null,
   "id": "b8b7b4c6-8082-431e-bddf-8c1c085cd570",
   "metadata": {},
   "outputs": [],
   "source": []
  },
  {
   "cell_type": "code",
   "execution_count": 27,
   "id": "a5aebfee-1009-45d6-a536-6bc84eda2c85",
   "metadata": {},
   "outputs": [],
   "source": [
    "\n",
    "def deleteAndEarn(nums) -> int:\n",
    "    nums.sort()\n",
    "    pairs = []\n",
    "    curr = [0,0]\n",
    "    for n in nums:\n",
    "        if n != curr[0]:\n",
    "            pairs.append(curr)\n",
    "            curr= [n, 1]\n",
    "        else:\n",
    "            curr[1]+=1\n",
    "    pairs.append(curr)\n",
    "\n",
    "    # print(pairs)\n",
    "    \n",
    "    def tot_num(p):\n",
    "        return p[0]*p[1]\n",
    "\n",
    "    maxes = [tot_num(pairs[0]), tot_num(pairs[1])]\n",
    "    for i, n in enumerate(pairs):\n",
    "        if i <= 1:\n",
    "            continue\n",
    "        if pairs[i-1][0] == n[0]-1:\n",
    "            maxes.append(max(maxes[i-1], maxes[i-2]+ tot_num(n)))\n",
    "        else:\n",
    "            maxes.append(maxes[i-1]+tot_num(n))\n",
    "    return maxes[-1]\n"
   ]
  },
  {
   "cell_type": "code",
   "execution_count": 28,
   "id": "d0e715e1-0e5f-4792-bd40-affbdb090ac1",
   "metadata": {},
   "outputs": [
    {
     "data": {
      "text/plain": [
       "9"
      ]
     },
     "execution_count": 28,
     "metadata": {},
     "output_type": "execute_result"
    }
   ],
   "source": [
    "deleteAndEarn([2,2,3,3,3,4])"
   ]
  },
  {
   "cell_type": "code",
   "execution_count": 3,
   "id": "183d3a4c-6b56-46cf-a318-49213608e11c",
   "metadata": {},
   "outputs": [
    {
     "data": {
      "text/html": [
       "<div>\n",
       "<style scoped>\n",
       "    .dataframe tbody tr th:only-of-type {\n",
       "        vertical-align: middle;\n",
       "    }\n",
       "\n",
       "    .dataframe tbody tr th {\n",
       "        vertical-align: top;\n",
       "    }\n",
       "\n",
       "    .dataframe thead th {\n",
       "        text-align: right;\n",
       "    }\n",
       "</style>\n",
       "<table border=\"1\" class=\"dataframe\">\n",
       "  <thead>\n",
       "    <tr style=\"text-align: right;\">\n",
       "      <th></th>\n",
       "      <th>name</th>\n",
       "    </tr>\n",
       "  </thead>\n",
       "  <tbody>\n",
       "    <tr>\n",
       "      <th>0</th>\n",
       "      <td>Joel</td>\n",
       "    </tr>\n",
       "  </tbody>\n",
       "</table>\n",
       "</div>"
      ],
      "text/plain": [
       "   name\n",
       "0  Joel"
      ]
     },
     "execution_count": 3,
     "metadata": {},
     "output_type": "execute_result"
    }
   ],
   "source": [
    "pd.DataFrame([{'name':'Joel'}])"
   ]
  },
  {
   "cell_type": "code",
   "execution_count": null,
   "id": "e3d055ce-6e04-4814-9e24-43d21f8dc111",
   "metadata": {},
   "outputs": [],
   "source": []
  }
 ],
 "metadata": {
  "kernelspec": {
   "display_name": "Python 3 (ipykernel)",
   "language": "python",
   "name": "python3"
  },
  "language_info": {
   "codemirror_mode": {
    "name": "ipython",
    "version": 3
   },
   "file_extension": ".py",
   "mimetype": "text/x-python",
   "name": "python",
   "nbconvert_exporter": "python",
   "pygments_lexer": "ipython3",
   "version": "3.11.5"
  }
 },
 "nbformat": 4,
 "nbformat_minor": 5
}
